{
  "nbformat": 4,
  "nbformat_minor": 0,
  "metadata": {
    "colab": {
      "name": "GL_AIML_Session_Linear_Regression_13_07_2019.ipynb",
      "version": "0.3.2",
      "provenance": [],
      "collapsed_sections": [
        "EiapYtK9BGIe",
        "66laT84SNfZ6",
        "2XVsmX4fN5W7",
        "6iSWbJUbPEIU",
        "BsyEkXs9PZ88",
        "7AuIHHPNP5sC",
        "YdFjkXsVQnvy",
        "xqUfjCbCScz1"
      ]
    },
    "kernelspec": {
      "name": "python3",
      "display_name": "Python 3"
    }
  },
  "cells": [
    {
      "cell_type": "markdown",
      "metadata": {
        "id": "SUXreZxtQZy8",
        "colab_type": "text"
      },
      "source": [
        "# Linear Regression - First Solution"
      ]
    },
    {
      "cell_type": "markdown",
      "metadata": {
        "id": "qldvj6CzAvFr",
        "colab_type": "text"
      },
      "source": [
        "## Importing the Libraries"
      ]
    },
    {
      "cell_type": "markdown",
      "metadata": {
        "id": "p2W8Tj9OAtPP",
        "colab_type": "text"
      },
      "source": [
        "\n",
        "The following script imports the necessary libraries:"
      ]
    },
    {
      "cell_type": "code",
      "metadata": {
        "id": "axCbc5ikAakO",
        "colab_type": "code",
        "colab": {}
      },
      "source": [
        "from IPython.core.interactiveshell import InteractiveShell\n",
        "InteractiveShell.ast_node_interactivity = \"all\"\n",
        "\n",
        "\n",
        "from sklearn.linear_model import LinearRegression  \n",
        "from sklearn import metrics  \n",
        "from sklearn import datasets, linear_model\n",
        "from sklearn.metrics import mean_squared_error, r2_score\n",
        "\n",
        "import seaborn as sns\n",
        "import statsmodels.formula.api as smf\n",
        "\n",
        "\n",
        "import pandas as pd \n",
        "import requests\n",
        "import numpy as np  \n",
        "import matplotlib.pyplot as plt \n",
        "import datetime\n",
        "%matplotlib inline"
      ],
      "execution_count": 0,
      "outputs": []
    },
    {
      "cell_type": "markdown",
      "metadata": {
        "id": "EiapYtK9BGIe",
        "colab_type": "text"
      },
      "source": [
        "## Dataset"
      ]
    },
    {
      "cell_type": "markdown",
      "metadata": {
        "id": "aJelLAaXBJeN",
        "colab_type": "text"
      },
      "source": [
        "File has been downloaded and kept in my google drive. Follow code will help us to read the data into pandas dataframe."
      ]
    },
    {
      "cell_type": "code",
      "metadata": {
        "id": "Z3sgYyNC6JQQ",
        "colab_type": "code",
        "outputId": "8beedb88-a890-45d4-d060-173eb4fba49c",
        "colab": {
          "base_uri": "https://localhost:8080/",
          "height": 50
        }
      },
      "source": [
        "from google.colab import drive\n",
        "drive.mount('/content/gdrive')\n",
        "\n",
        "currentDT = datetime.datetime.now()\n",
        "print(\"Current time:\", currentDT)\n",
        "filepath='/content/gdrive/My Drive/petrol_consumption.csv'"
      ],
      "execution_count": 0,
      "outputs": [
        {
          "output_type": "stream",
          "text": [
            "Drive already mounted at /content/gdrive; to attempt to forcibly remount, call drive.mount(\"/content/gdrive\", force_remount=True).\n",
            "Current time: 2019-07-13 11:40:41.780457\n"
          ],
          "name": "stdout"
        }
      ]
    },
    {
      "cell_type": "code",
      "metadata": {
        "id": "lNQXWE4fBGcp",
        "colab_type": "code",
        "colab": {}
      },
      "source": [
        "# url=\"https://drive.google.com/open?id=1mVmGNx6cbfvRHCDvF12ZL3wGLSHD9f\"\n",
        "# s=requests.get(url).content\n",
        "# dataset=pd.read_csv(s)"
      ],
      "execution_count": 0,
      "outputs": []
    },
    {
      "cell_type": "markdown",
      "metadata": {
        "id": "f_BGu3fjNKT_",
        "colab_type": "text"
      },
      "source": [
        "Let's take a look at what our dataset actually looks like. Execute the head() command:"
      ]
    },
    {
      "cell_type": "code",
      "metadata": {
        "id": "rYwGfWsvMiG0",
        "colab_type": "code",
        "outputId": "3a1d5216-57d5-4039-8c18-6deee6aa9da5",
        "colab": {
          "base_uri": "https://localhost:8080/",
          "height": 195
        }
      },
      "source": [
        "dataset = pd.read_csv('/content/gdrive/My Drive/petrol_consumption.csv')  \n",
        "dataset.head()"
      ],
      "execution_count": 0,
      "outputs": [
        {
          "output_type": "execute_result",
          "data": {
            "text/html": [
              "<div>\n",
              "<style scoped>\n",
              "    .dataframe tbody tr th:only-of-type {\n",
              "        vertical-align: middle;\n",
              "    }\n",
              "\n",
              "    .dataframe tbody tr th {\n",
              "        vertical-align: top;\n",
              "    }\n",
              "\n",
              "    .dataframe thead th {\n",
              "        text-align: right;\n",
              "    }\n",
              "</style>\n",
              "<table border=\"1\" class=\"dataframe\">\n",
              "  <thead>\n",
              "    <tr style=\"text-align: right;\">\n",
              "      <th></th>\n",
              "      <th>Petrol_tax</th>\n",
              "      <th>Average_income</th>\n",
              "      <th>Paved_Highways</th>\n",
              "      <th>Population_Driver_licence(%)</th>\n",
              "      <th>Petrol_Consumption</th>\n",
              "    </tr>\n",
              "  </thead>\n",
              "  <tbody>\n",
              "    <tr>\n",
              "      <th>0</th>\n",
              "      <td>9.0</td>\n",
              "      <td>3571</td>\n",
              "      <td>1976</td>\n",
              "      <td>0.525</td>\n",
              "      <td>541</td>\n",
              "    </tr>\n",
              "    <tr>\n",
              "      <th>1</th>\n",
              "      <td>9.0</td>\n",
              "      <td>4092</td>\n",
              "      <td>1250</td>\n",
              "      <td>0.572</td>\n",
              "      <td>524</td>\n",
              "    </tr>\n",
              "    <tr>\n",
              "      <th>2</th>\n",
              "      <td>9.0</td>\n",
              "      <td>3865</td>\n",
              "      <td>1586</td>\n",
              "      <td>0.580</td>\n",
              "      <td>561</td>\n",
              "    </tr>\n",
              "    <tr>\n",
              "      <th>3</th>\n",
              "      <td>7.5</td>\n",
              "      <td>4870</td>\n",
              "      <td>2351</td>\n",
              "      <td>0.529</td>\n",
              "      <td>414</td>\n",
              "    </tr>\n",
              "    <tr>\n",
              "      <th>4</th>\n",
              "      <td>8.0</td>\n",
              "      <td>4399</td>\n",
              "      <td>431</td>\n",
              "      <td>0.544</td>\n",
              "      <td>410</td>\n",
              "    </tr>\n",
              "  </tbody>\n",
              "</table>\n",
              "</div>"
            ],
            "text/plain": [
              "   Petrol_tax  Average_income  ...  Population_Driver_licence(%)  Petrol_Consumption\n",
              "0         9.0            3571  ...                         0.525                 541\n",
              "1         9.0            4092  ...                         0.572                 524\n",
              "2         9.0            3865  ...                         0.580                 561\n",
              "3         7.5            4870  ...                         0.529                 414\n",
              "4         8.0            4399  ...                         0.544                 410\n",
              "\n",
              "[5 rows x 5 columns]"
            ]
          },
          "metadata": {
            "tags": []
          },
          "execution_count": 12
        }
      ]
    },
    {
      "cell_type": "markdown",
      "metadata": {
        "id": "9T8ZLcCRNUsJ",
        "colab_type": "text"
      },
      "source": [
        "To see statistical details of the dataset, we'll use the describe() command again:"
      ]
    },
    {
      "cell_type": "code",
      "metadata": {
        "id": "_OhSURfaNWBY",
        "colab_type": "code",
        "outputId": "0ad4c020-1dc7-42cd-b8ea-b66cae320f18",
        "colab": {
          "base_uri": "https://localhost:8080/",
          "height": 284
        }
      },
      "source": [
        "dataset.describe()"
      ],
      "execution_count": 0,
      "outputs": [
        {
          "output_type": "execute_result",
          "data": {
            "text/html": [
              "<div>\n",
              "<style scoped>\n",
              "    .dataframe tbody tr th:only-of-type {\n",
              "        vertical-align: middle;\n",
              "    }\n",
              "\n",
              "    .dataframe tbody tr th {\n",
              "        vertical-align: top;\n",
              "    }\n",
              "\n",
              "    .dataframe thead th {\n",
              "        text-align: right;\n",
              "    }\n",
              "</style>\n",
              "<table border=\"1\" class=\"dataframe\">\n",
              "  <thead>\n",
              "    <tr style=\"text-align: right;\">\n",
              "      <th></th>\n",
              "      <th>Petrol_tax</th>\n",
              "      <th>Average_income</th>\n",
              "      <th>Paved_Highways</th>\n",
              "      <th>Population_Driver_licence(%)</th>\n",
              "      <th>Petrol_Consumption</th>\n",
              "    </tr>\n",
              "  </thead>\n",
              "  <tbody>\n",
              "    <tr>\n",
              "      <th>count</th>\n",
              "      <td>48.000000</td>\n",
              "      <td>48.000000</td>\n",
              "      <td>48.000000</td>\n",
              "      <td>48.000000</td>\n",
              "      <td>48.000000</td>\n",
              "    </tr>\n",
              "    <tr>\n",
              "      <th>mean</th>\n",
              "      <td>7.668333</td>\n",
              "      <td>4241.833333</td>\n",
              "      <td>5565.416667</td>\n",
              "      <td>0.570333</td>\n",
              "      <td>576.770833</td>\n",
              "    </tr>\n",
              "    <tr>\n",
              "      <th>std</th>\n",
              "      <td>0.950770</td>\n",
              "      <td>573.623768</td>\n",
              "      <td>3491.507166</td>\n",
              "      <td>0.055470</td>\n",
              "      <td>111.885816</td>\n",
              "    </tr>\n",
              "    <tr>\n",
              "      <th>min</th>\n",
              "      <td>5.000000</td>\n",
              "      <td>3063.000000</td>\n",
              "      <td>431.000000</td>\n",
              "      <td>0.451000</td>\n",
              "      <td>344.000000</td>\n",
              "    </tr>\n",
              "    <tr>\n",
              "      <th>25%</th>\n",
              "      <td>7.000000</td>\n",
              "      <td>3739.000000</td>\n",
              "      <td>3110.250000</td>\n",
              "      <td>0.529750</td>\n",
              "      <td>509.500000</td>\n",
              "    </tr>\n",
              "    <tr>\n",
              "      <th>50%</th>\n",
              "      <td>7.500000</td>\n",
              "      <td>4298.000000</td>\n",
              "      <td>4735.500000</td>\n",
              "      <td>0.564500</td>\n",
              "      <td>568.500000</td>\n",
              "    </tr>\n",
              "    <tr>\n",
              "      <th>75%</th>\n",
              "      <td>8.125000</td>\n",
              "      <td>4578.750000</td>\n",
              "      <td>7156.000000</td>\n",
              "      <td>0.595250</td>\n",
              "      <td>632.750000</td>\n",
              "    </tr>\n",
              "    <tr>\n",
              "      <th>max</th>\n",
              "      <td>10.000000</td>\n",
              "      <td>5342.000000</td>\n",
              "      <td>17782.000000</td>\n",
              "      <td>0.724000</td>\n",
              "      <td>968.000000</td>\n",
              "    </tr>\n",
              "  </tbody>\n",
              "</table>\n",
              "</div>"
            ],
            "text/plain": [
              "       Petrol_tax  ...  Petrol_Consumption\n",
              "count   48.000000  ...           48.000000\n",
              "mean     7.668333  ...          576.770833\n",
              "std      0.950770  ...          111.885816\n",
              "min      5.000000  ...          344.000000\n",
              "25%      7.000000  ...          509.500000\n",
              "50%      7.500000  ...          568.500000\n",
              "75%      8.125000  ...          632.750000\n",
              "max     10.000000  ...          968.000000\n",
              "\n",
              "[8 rows x 5 columns]"
            ]
          },
          "metadata": {
            "tags": []
          },
          "execution_count": 13
        }
      ]
    },
    {
      "cell_type": "markdown",
      "metadata": {
        "id": "66laT84SNfZ6",
        "colab_type": "text"
      },
      "source": [
        "## Preparing the Data"
      ]
    },
    {
      "cell_type": "markdown",
      "metadata": {
        "id": "eWRqvgt5NiDk",
        "colab_type": "text"
      },
      "source": [
        "The next step is to divide the data into attributes and labels as we did previously. However, unlike last time, this time around we are going to use column names for creating an attribute set and label. "
      ]
    },
    {
      "cell_type": "code",
      "metadata": {
        "id": "MooYYO1mNloX",
        "colab_type": "code",
        "colab": {}
      },
      "source": [
        "X = dataset[['Petrol_tax', 'Average_income', 'Paved_Highways',  \n",
        "       'Population_Driver_licence(%)']]\n",
        "y = dataset['Petrol_Consumption']  "
      ],
      "execution_count": 0,
      "outputs": []
    },
    {
      "cell_type": "markdown",
      "metadata": {
        "id": "AwFk3BgiNvpC",
        "colab_type": "text"
      },
      "source": [
        "Execute the following code to divide our data into training and test sets:"
      ]
    },
    {
      "cell_type": "code",
      "metadata": {
        "id": "RtC38MgVNylK",
        "colab_type": "code",
        "colab": {}
      },
      "source": [
        "from sklearn.model_selection import train_test_split  \n",
        "X_train, X_test, y_train, y_test = train_test_split(X, y, test_size=0.2, random_state=0)  "
      ],
      "execution_count": 0,
      "outputs": []
    },
    {
      "cell_type": "markdown",
      "metadata": {
        "id": "2XVsmX4fN5W7",
        "colab_type": "text"
      },
      "source": [
        "## Training the Algorithm"
      ]
    },
    {
      "cell_type": "markdown",
      "metadata": {
        "id": "xEq_5tAYN-wF",
        "colab_type": "text"
      },
      "source": [
        "And finally, to train the algorithm we execute the same code as before, using the fit() method of the LinearRegression class:"
      ]
    },
    {
      "cell_type": "code",
      "metadata": {
        "id": "kYrzui78OIKK",
        "colab_type": "code",
        "outputId": "d532428d-82ef-411f-a44f-a603a8bb3167",
        "colab": {
          "base_uri": "https://localhost:8080/",
          "height": 34
        }
      },
      "source": [
        "regressor = LinearRegression()  \n",
        "regressor.fit(X_train, y_train)  "
      ],
      "execution_count": 0,
      "outputs": [
        {
          "output_type": "execute_result",
          "data": {
            "text/plain": [
              "LinearRegression(copy_X=True, fit_intercept=True, n_jobs=None, normalize=False)"
            ]
          },
          "metadata": {
            "tags": []
          },
          "execution_count": 17
        }
      ]
    },
    {
      "cell_type": "markdown",
      "metadata": {
        "id": "XpqWrExeOMxI",
        "colab_type": "text"
      },
      "source": [
        "in case of multivariable linear regression, the regression model has to find the most optimal coefficients for all the attributes. To see what coefficients our regression model has chosen, execute the following script:"
      ]
    },
    {
      "cell_type": "code",
      "metadata": {
        "id": "Tg5mIrSHONtB",
        "colab_type": "code",
        "outputId": "b555ecff-bff9-4d49-c8c6-dfbab231cdc3",
        "colab": {
          "base_uri": "https://localhost:8080/",
          "height": 166
        }
      },
      "source": [
        "coeff_df = pd.DataFrame(regressor.coef_, X.columns, columns=['Coefficient'])  \n",
        "coeff_df  "
      ],
      "execution_count": 0,
      "outputs": [
        {
          "output_type": "execute_result",
          "data": {
            "text/html": [
              "<div>\n",
              "<style scoped>\n",
              "    .dataframe tbody tr th:only-of-type {\n",
              "        vertical-align: middle;\n",
              "    }\n",
              "\n",
              "    .dataframe tbody tr th {\n",
              "        vertical-align: top;\n",
              "    }\n",
              "\n",
              "    .dataframe thead th {\n",
              "        text-align: right;\n",
              "    }\n",
              "</style>\n",
              "<table border=\"1\" class=\"dataframe\">\n",
              "  <thead>\n",
              "    <tr style=\"text-align: right;\">\n",
              "      <th></th>\n",
              "      <th>Coefficient</th>\n",
              "    </tr>\n",
              "  </thead>\n",
              "  <tbody>\n",
              "    <tr>\n",
              "      <th>Petrol_tax</th>\n",
              "      <td>-40.016660</td>\n",
              "    </tr>\n",
              "    <tr>\n",
              "      <th>Average_income</th>\n",
              "      <td>-0.065413</td>\n",
              "    </tr>\n",
              "    <tr>\n",
              "      <th>Paved_Highways</th>\n",
              "      <td>-0.004741</td>\n",
              "    </tr>\n",
              "    <tr>\n",
              "      <th>Population_Driver_licence(%)</th>\n",
              "      <td>1341.862121</td>\n",
              "    </tr>\n",
              "  </tbody>\n",
              "</table>\n",
              "</div>"
            ],
            "text/plain": [
              "                              Coefficient\n",
              "Petrol_tax                     -40.016660\n",
              "Average_income                  -0.065413\n",
              "Paved_Highways                  -0.004741\n",
              "Population_Driver_licence(%)  1341.862121"
            ]
          },
          "metadata": {
            "tags": []
          },
          "execution_count": 18
        }
      ]
    },
    {
      "cell_type": "markdown",
      "metadata": {
        "id": "k2OUEeeGOZdH",
        "colab_type": "text"
      },
      "source": [
        "*  **This means that for a unit increase in \"petroltax\", there is a decrease of 40.016 million gallons in gas consumption.**\n",
        "*  **Similarly, a unit increase in proportion of population with a drivers license results in an increase of 1.341 billion gallons of gas consumption.**\n",
        "\n",
        "**We can see that \"Averageincome\" and \"Paved_Highways\" have a very little effect on the gas consumption.**"
      ]
    },
    {
      "cell_type": "markdown",
      "metadata": {
        "id": "6iSWbJUbPEIU",
        "colab_type": "text"
      },
      "source": [
        "## Making Predictions"
      ]
    },
    {
      "cell_type": "markdown",
      "metadata": {
        "id": "N3AY1JMsPI3l",
        "colab_type": "text"
      },
      "source": [
        "To make pre-dictions on the test data, execute the following script:"
      ]
    },
    {
      "cell_type": "code",
      "metadata": {
        "id": "oqtRpH_uPHFo",
        "colab_type": "code",
        "colab": {}
      },
      "source": [
        "y_pred = regressor.predict(X_test)"
      ],
      "execution_count": 0,
      "outputs": []
    },
    {
      "cell_type": "markdown",
      "metadata": {
        "id": "aJugWUjkPUDl",
        "colab_type": "text"
      },
      "source": [
        "To compare the actual output values for X_test with the predicted values, execute the following script:"
      ]
    },
    {
      "cell_type": "code",
      "metadata": {
        "id": "PCy6Dq7MPU2h",
        "colab_type": "code",
        "outputId": "f71c9278-0468-4a54-9a00-8e77d8829194",
        "colab": {
          "base_uri": "https://localhost:8080/",
          "height": 343
        }
      },
      "source": [
        "df = pd.DataFrame({'Actual': y_test, 'Predicted': y_pred})  \n",
        "df  "
      ],
      "execution_count": 0,
      "outputs": [
        {
          "output_type": "execute_result",
          "data": {
            "text/html": [
              "<div>\n",
              "<style scoped>\n",
              "    .dataframe tbody tr th:only-of-type {\n",
              "        vertical-align: middle;\n",
              "    }\n",
              "\n",
              "    .dataframe tbody tr th {\n",
              "        vertical-align: top;\n",
              "    }\n",
              "\n",
              "    .dataframe thead th {\n",
              "        text-align: right;\n",
              "    }\n",
              "</style>\n",
              "<table border=\"1\" class=\"dataframe\">\n",
              "  <thead>\n",
              "    <tr style=\"text-align: right;\">\n",
              "      <th></th>\n",
              "      <th>Actual</th>\n",
              "      <th>Predicted</th>\n",
              "    </tr>\n",
              "  </thead>\n",
              "  <tbody>\n",
              "    <tr>\n",
              "      <th>29</th>\n",
              "      <td>534</td>\n",
              "      <td>469.391989</td>\n",
              "    </tr>\n",
              "    <tr>\n",
              "      <th>4</th>\n",
              "      <td>410</td>\n",
              "      <td>545.645464</td>\n",
              "    </tr>\n",
              "    <tr>\n",
              "      <th>26</th>\n",
              "      <td>577</td>\n",
              "      <td>589.668394</td>\n",
              "    </tr>\n",
              "    <tr>\n",
              "      <th>30</th>\n",
              "      <td>571</td>\n",
              "      <td>569.730413</td>\n",
              "    </tr>\n",
              "    <tr>\n",
              "      <th>32</th>\n",
              "      <td>577</td>\n",
              "      <td>649.774809</td>\n",
              "    </tr>\n",
              "    <tr>\n",
              "      <th>37</th>\n",
              "      <td>704</td>\n",
              "      <td>646.631164</td>\n",
              "    </tr>\n",
              "    <tr>\n",
              "      <th>34</th>\n",
              "      <td>487</td>\n",
              "      <td>511.608148</td>\n",
              "    </tr>\n",
              "    <tr>\n",
              "      <th>40</th>\n",
              "      <td>587</td>\n",
              "      <td>672.475177</td>\n",
              "    </tr>\n",
              "    <tr>\n",
              "      <th>7</th>\n",
              "      <td>467</td>\n",
              "      <td>502.074782</td>\n",
              "    </tr>\n",
              "    <tr>\n",
              "      <th>10</th>\n",
              "      <td>580</td>\n",
              "      <td>501.270734</td>\n",
              "    </tr>\n",
              "  </tbody>\n",
              "</table>\n",
              "</div>"
            ],
            "text/plain": [
              "    Actual   Predicted\n",
              "29     534  469.391989\n",
              "4      410  545.645464\n",
              "26     577  589.668394\n",
              "30     571  569.730413\n",
              "32     577  649.774809\n",
              "37     704  646.631164\n",
              "34     487  511.608148\n",
              "40     587  672.475177\n",
              "7      467  502.074782\n",
              "10     580  501.270734"
            ]
          },
          "metadata": {
            "tags": []
          },
          "execution_count": 20
        }
      ]
    },
    {
      "cell_type": "markdown",
      "metadata": {
        "id": "BsyEkXs9PZ88",
        "colab_type": "text"
      },
      "source": [
        "## Evaluating the Algorithm"
      ]
    },
    {
      "cell_type": "markdown",
      "metadata": {
        "id": "nU2LqhEMPeFL",
        "colab_type": "text"
      },
      "source": [
        "The final step is to evaluate the performance of algorithm. We'll do this by finding the values for MAE, MSE and RMSE. Execute the following script:"
      ]
    },
    {
      "cell_type": "code",
      "metadata": {
        "id": "CiesR06mPlLd",
        "colab_type": "code",
        "outputId": "f4123dcc-5894-4d03-a266-81d2900cc632",
        "colab": {
          "base_uri": "https://localhost:8080/",
          "height": 67
        }
      },
      "source": [
        "print('Mean Absolute Error:', metrics.mean_absolute_error(y_test, y_pred))  \n",
        "print('Mean Squared Error:', metrics.mean_squared_error(y_test, y_pred))  \n",
        "print('Root Mean Squared Error:', np.sqrt(metrics.mean_squared_error(y_test, y_pred)))  "
      ],
      "execution_count": 0,
      "outputs": [
        {
          "output_type": "stream",
          "text": [
            "Mean Absolute Error: 56.8222474789647\n",
            "Mean Squared Error: 4666.344787588362\n",
            "Root Mean Squared Error: 68.31064915215168\n"
          ],
          "name": "stdout"
        }
      ]
    },
    {
      "cell_type": "markdown",
      "metadata": {
        "id": "aXjdz9IFPs5I",
        "colab_type": "text"
      },
      "source": [
        "**You can see that the value of root mean squared error is 68.31, which is slightly greater than 10% of the mean value of the gas consumption in all states. This means that our algorithm was not very accurate but can still make reasonably good predictions.**"
      ]
    },
    {
      "cell_type": "markdown",
      "metadata": {
        "id": "7AuIHHPNP5sC",
        "colab_type": "text"
      },
      "source": [
        "## Observations"
      ]
    },
    {
      "cell_type": "markdown",
      "metadata": {
        "id": "fQhZyZtfP8Ba",
        "colab_type": "text"
      },
      "source": [
        "**There are many factors that may have contributed to this inaccuracy, a few of which are listed here:**\n",
        "\n",
        "* Need more data: Only one year worth of data isn't that much, whereas having multiple years worth could have helped us improve the accuracy quite a bit.\n",
        "* Bad assumptions: We made the assumption that this data has a linear relationship, but that might not be the case. Visualizing the data may help you determine that.\n",
        "* Poor features: The features we used may not have had a high enough correlation to the values we were trying to predict."
      ]
    },
    {
      "cell_type": "markdown",
      "metadata": {
        "id": "YdFjkXsVQnvy",
        "colab_type": "text"
      },
      "source": [
        "# Linear Regression -Second Solution"
      ]
    },
    {
      "cell_type": "markdown",
      "metadata": {
        "id": "X-wxqXiIT4Ob",
        "colab_type": "text"
      },
      "source": [
        "## Advertising Data"
      ]
    },
    {
      "cell_type": "markdown",
      "metadata": {
        "id": "iXkjSKklT80A",
        "colab_type": "text"
      },
      "source": [
        "Let's take a look at some data, ask some questions about that data, and then use linear regression to answer those questions!"
      ]
    },
    {
      "cell_type": "code",
      "metadata": {
        "id": "XCntz6YQV9j6",
        "colab_type": "code",
        "colab": {}
      },
      "source": [
        "import seaborn as sns\n",
        "import statsmodels.formula.api as smf\n"
      ],
      "execution_count": 0,
      "outputs": []
    },
    {
      "cell_type": "code",
      "metadata": {
        "id": "SuHj5KyFVej_",
        "colab_type": "code",
        "outputId": "7ab73ae8-32a2-4178-db6d-73a59671a211",
        "colab": {
          "base_uri": "https://localhost:8080/",
          "height": 50
        }
      },
      "source": [
        "from google.colab import drive\n",
        "drive.mount('/content/gdrive')\n",
        "\n",
        "currentDT = datetime.datetime.now()\n",
        "print(\"Current time:\", currentDT)\n",
        "filepath='/content/gdrive/My Drive/Advertising.csv'"
      ],
      "execution_count": 0,
      "outputs": [
        {
          "output_type": "stream",
          "text": [
            "Drive already mounted at /content/gdrive; to attempt to forcibly remount, call drive.mount(\"/content/gdrive\", force_remount=True).\n",
            "Current time: 2019-07-12 17:58:42.768801\n"
          ],
          "name": "stdout"
        }
      ]
    },
    {
      "cell_type": "code",
      "metadata": {
        "id": "lph-fuPeT7AD",
        "colab_type": "code",
        "outputId": "bdb7a699-2b92-4d58-ba3e-07aa34d935ae",
        "colab": {
          "base_uri": "https://localhost:8080/",
          "height": 195
        }
      },
      "source": [
        "# read data into a DataFrame\n",
        "data = pd.read_csv('/content/gdrive/My Drive/Advertising.csv')\n",
        "data.head()"
      ],
      "execution_count": 0,
      "outputs": [
        {
          "output_type": "execute_result",
          "data": {
            "text/html": [
              "<div>\n",
              "<style scoped>\n",
              "    .dataframe tbody tr th:only-of-type {\n",
              "        vertical-align: middle;\n",
              "    }\n",
              "\n",
              "    .dataframe tbody tr th {\n",
              "        vertical-align: top;\n",
              "    }\n",
              "\n",
              "    .dataframe thead th {\n",
              "        text-align: right;\n",
              "    }\n",
              "</style>\n",
              "<table border=\"1\" class=\"dataframe\">\n",
              "  <thead>\n",
              "    <tr style=\"text-align: right;\">\n",
              "      <th></th>\n",
              "      <th>Unnamed: 0</th>\n",
              "      <th>TV</th>\n",
              "      <th>Radio</th>\n",
              "      <th>Newspaper</th>\n",
              "      <th>Sales</th>\n",
              "    </tr>\n",
              "  </thead>\n",
              "  <tbody>\n",
              "    <tr>\n",
              "      <th>0</th>\n",
              "      <td>1</td>\n",
              "      <td>230.1</td>\n",
              "      <td>37.8</td>\n",
              "      <td>69.2</td>\n",
              "      <td>22.1</td>\n",
              "    </tr>\n",
              "    <tr>\n",
              "      <th>1</th>\n",
              "      <td>2</td>\n",
              "      <td>44.5</td>\n",
              "      <td>39.3</td>\n",
              "      <td>45.1</td>\n",
              "      <td>10.4</td>\n",
              "    </tr>\n",
              "    <tr>\n",
              "      <th>2</th>\n",
              "      <td>3</td>\n",
              "      <td>17.2</td>\n",
              "      <td>45.9</td>\n",
              "      <td>69.3</td>\n",
              "      <td>9.3</td>\n",
              "    </tr>\n",
              "    <tr>\n",
              "      <th>3</th>\n",
              "      <td>4</td>\n",
              "      <td>151.5</td>\n",
              "      <td>41.3</td>\n",
              "      <td>58.5</td>\n",
              "      <td>18.5</td>\n",
              "    </tr>\n",
              "    <tr>\n",
              "      <th>4</th>\n",
              "      <td>5</td>\n",
              "      <td>180.8</td>\n",
              "      <td>10.8</td>\n",
              "      <td>58.4</td>\n",
              "      <td>12.9</td>\n",
              "    </tr>\n",
              "  </tbody>\n",
              "</table>\n",
              "</div>"
            ],
            "text/plain": [
              "   Unnamed: 0     TV  Radio  Newspaper  Sales\n",
              "0           1  230.1   37.8       69.2   22.1\n",
              "1           2   44.5   39.3       45.1   10.4\n",
              "2           3   17.2   45.9       69.3    9.3\n",
              "3           4  151.5   41.3       58.5   18.5\n",
              "4           5  180.8   10.8       58.4   12.9"
            ]
          },
          "metadata": {
            "tags": []
          },
          "execution_count": 33
        }
      ]
    },
    {
      "cell_type": "code",
      "metadata": {
        "id": "YntBYPBsVs7K",
        "colab_type": "code",
        "outputId": "0b0c48ef-7eb8-4c2c-c1f8-da05c756ade5",
        "colab": {
          "base_uri": "https://localhost:8080/",
          "height": 34
        }
      },
      "source": [
        "# shape of the DataFrame\n",
        "data.shape"
      ],
      "execution_count": 0,
      "outputs": [
        {
          "output_type": "execute_result",
          "data": {
            "text/plain": [
              "(200, 5)"
            ]
          },
          "metadata": {
            "tags": []
          },
          "execution_count": 34
        }
      ]
    },
    {
      "cell_type": "markdown",
      "metadata": {
        "id": "OtNYPFChVxxW",
        "colab_type": "text"
      },
      "source": [
        "visualize the relationship between the features and the response using scatterplots"
      ]
    },
    {
      "cell_type": "code",
      "metadata": {
        "id": "OUeDtcZ2Vysa",
        "colab_type": "code",
        "outputId": "546eb5fd-09c1-4e50-8245-68851a686c67",
        "colab": {
          "base_uri": "https://localhost:8080/",
          "height": 583
        }
      },
      "source": [
        "sns.pairplot(data, x_vars=['TV','Radio','Newspaper'], y_vars='Sales', size=7, aspect=0.7)"
      ],
      "execution_count": 0,
      "outputs": [
        {
          "output_type": "stream",
          "text": [
            "/usr/local/lib/python3.6/dist-packages/seaborn/axisgrid.py:2065: UserWarning: The `size` parameter has been renamed to `height`; pleaes update your code.\n",
            "  warnings.warn(msg, UserWarning)\n"
          ],
          "name": "stderr"
        },
        {
          "output_type": "execute_result",
          "data": {
            "text/plain": [
              "<seaborn.axisgrid.PairGrid at 0x7f1f22c78c18>"
            ]
          },
          "metadata": {
            "tags": []
          },
          "execution_count": 37
        },
        {
          "output_type": "display_data",
          "data": {
            "image/png": "[encoded data removed]",
            "text/plain": [
              "<Figure size 1058.4x504 with 3 Axes>"
            ]
          },
          "metadata": {
            "tags": []
          }
        }
      ]
    },
    {
      "cell_type": "markdown",
      "metadata": {
        "id": "0diEguK3WKm5",
        "colab_type": "text"
      },
      "source": [
        "## Questions About the Advertising Data"
      ]
    },
    {
      "cell_type": "markdown",
      "metadata": {
        "id": "Eym38DqtWMC6",
        "colab_type": "text"
      },
      "source": [
        "This general question might lead you to more specific questions:\n",
        "* Is there a relationship between ads and sales?\n",
        "* How strong is that relationship?\n",
        "* Which ad types contribute to sales?\n",
        "* What is the effect of each ad type of sales?\n",
        "* Given ad spending in a particular market, can sales be predicted?"
      ]
    },
    {
      "cell_type": "markdown",
      "metadata": {
        "id": "6KECcsX6WVK8",
        "colab_type": "text"
      },
      "source": [
        "## Simple Linear Regression"
      ]
    },
    {
      "cell_type": "markdown",
      "metadata": {
        "id": "EMsl89dvWW51",
        "colab_type": "text"
      },
      "source": [
        "*  Simple linear regression is an approach for predicting a quantitative response using a single feature (or \"predictor\" or \"input variable\")\n",
        "*  It takes the following form:\n",
        "*  y=β0+β1x \n",
        "\n",
        "What does each term represent?\n",
        "\n",
        "*  y  is the response\n",
        "*  x  is the feature\n",
        "*  β0  is the intercept\n",
        "*  β1  is the coefficient for x\n",
        "\n",
        "*  β0  and  β1  are called the model coefficients"
      ]
    },
    {
      "cell_type": "markdown",
      "metadata": {
        "id": "n5CX3cILWorw",
        "colab_type": "text"
      },
      "source": [
        "**To create your model, you must \"learn\" the values of these coefficients. Once we've learned these coefficients, we can use the model to predict Sales.**"
      ]
    },
    {
      "cell_type": "markdown",
      "metadata": {
        "id": "Mti6yUxaWwFW",
        "colab_type": "text"
      },
      "source": [
        "## Estimating (\"Learning\") Model Coefficients"
      ]
    },
    {
      "cell_type": "markdown",
      "metadata": {
        "id": "5FzkSndxWz0o",
        "colab_type": "text"
      },
      "source": [
        "* Coefficients are estimated using the least squares criterion\n",
        "  *   In other words, we find the line (mathematically) which minimizes the sum of squared residuals (or \"sum of squared errors\"):"
      ]
    },
    {
      "cell_type": "markdown",
      "metadata": {
        "id": "rI3yFwi-XG4e",
        "colab_type": "text"
      },
      "source": [
        "Let's estimate the model coefficients for the advertising data"
      ]
    },
    {
      "cell_type": "code",
      "metadata": {
        "id": "7NAvYbyEXIrp",
        "colab_type": "code",
        "outputId": "93569851-497a-40d0-d983-b13fb2bd4ce1",
        "colab": {
          "base_uri": "https://localhost:8080/",
          "height": 67
        }
      },
      "source": [
        "### STATSMODELS ###\n",
        "\n",
        "# create a fitted model\n",
        "lm1 = smf.ols(formula='Sales ~ TV', data=data).fit()\n",
        "\n",
        "# print the coefficients\n",
        "lm1.params"
      ],
      "execution_count": 0,
      "outputs": [
        {
          "output_type": "execute_result",
          "data": {
            "text/plain": [
              "Intercept    7.032594\n",
              "TV           0.047537\n",
              "dtype: float64"
            ]
          },
          "metadata": {
            "tags": []
          },
          "execution_count": 40
        }
      ]
    },
    {
      "cell_type": "code",
      "metadata": {
        "id": "MKArPunIXWV4",
        "colab_type": "code",
        "outputId": "62218011-613c-427b-9143-5befb3e355b4",
        "colab": {
          "base_uri": "https://localhost:8080/",
          "height": 50
        }
      },
      "source": [
        "### SCIKIT-LEARN ###\n",
        "\n",
        "# create X and y\n",
        "feature_cols = ['TV']\n",
        "X = data[feature_cols]\n",
        "y = data.Sales\n",
        "\n",
        "# instantiate and fit\n",
        "lm2 = LinearRegression()\n",
        "lm2.fit(X, y)\n",
        "\n",
        "# print the coefficients\n",
        "print(lm2.intercept_)\n",
        "print(lm2.coef_)"
      ],
      "execution_count": 0,
      "outputs": [
        {
          "output_type": "execute_result",
          "data": {
            "text/plain": [
              "LinearRegression(copy_X=True, fit_intercept=True, n_jobs=None, normalize=False)"
            ]
          },
          "metadata": {
            "tags": []
          },
          "execution_count": 46
        },
        {
          "output_type": "stream",
          "text": [
            "7.032593549127695\n",
            "[0.04753664]\n"
          ],
          "name": "stdout"
        }
      ]
    },
    {
      "cell_type": "markdown",
      "metadata": {
        "id": "gZm7iiYmXcL-",
        "colab_type": "text"
      },
      "source": [
        "## Interpreting Model Coefficients"
      ]
    },
    {
      "cell_type": "markdown",
      "metadata": {
        "id": "O5jZwiDSXiKx",
        "colab_type": "text"
      },
      "source": [
        "**Interpreting the TV coefficient ( β1 )**\n",
        "\n",
        "* A \"unit\" increase in TV ad spending is associated with a 0.047537 \"unit\" increase in Sales\n",
        "* Or more clearly: An additional $1,000 spent on TV ads is associated with an increase in sales of 47.537 widgets\n",
        "* Note here that the coefficients represent associations, not causations"
      ]
    },
    {
      "cell_type": "markdown",
      "metadata": {
        "id": "mNZNmPcVXwvx",
        "colab_type": "text"
      },
      "source": [
        "## Using the Model for Prediction"
      ]
    },
    {
      "cell_type": "markdown",
      "metadata": {
        "id": "Csk3r6YpXyM1",
        "colab_type": "text"
      },
      "source": [
        "Let's say that there was a new market where the TV advertising spend was $50,000. What would we predict for the Sales in that market?\n",
        "\n",
        "y=β0+β1x\n",
        " \n",
        "**y=7.032594+0.047537×50**\n",
        " \n",
        "We would use 50 instead of 50,000 because the original data consists of examples that are divided by 1000"
      ]
    },
    {
      "cell_type": "markdown",
      "metadata": {
        "id": "1HfxPkvVYBwv",
        "colab_type": "text"
      },
      "source": [
        "### Manual Prediction"
      ]
    },
    {
      "cell_type": "code",
      "metadata": {
        "id": "CjxJbUftYC86",
        "colab_type": "code",
        "outputId": "4f5b6e40-4c3e-46fc-da31-1ca48f10eece",
        "colab": {
          "base_uri": "https://localhost:8080/",
          "height": 34
        }
      },
      "source": [
        "# manually calculate the prediction\n",
        "7.032594 + 0.047537*50"
      ],
      "execution_count": 0,
      "outputs": [
        {
          "output_type": "execute_result",
          "data": {
            "text/plain": [
              "9.409444"
            ]
          },
          "metadata": {
            "tags": []
          },
          "execution_count": 42
        }
      ]
    },
    {
      "cell_type": "markdown",
      "metadata": {
        "id": "Z-DSluAUYF_H",
        "colab_type": "text"
      },
      "source": [
        "### Statsmodels Prediction"
      ]
    },
    {
      "cell_type": "code",
      "metadata": {
        "id": "ssa0PAkyYI68",
        "colab_type": "code",
        "outputId": "f8779b8e-613d-4832-a5e4-80e28eef11de",
        "colab": {
          "base_uri": "https://localhost:8080/",
          "height": 50
        }
      },
      "source": [
        "### STATSMODELS ###\n",
        "\n",
        "# you have to create a DataFrame since the Statsmodels formula interface expects it\n",
        "X_new = pd.DataFrame({'TV': [50]})\n",
        "\n",
        "# predict for a new observation\n",
        "lm1.predict(X_new)"
      ],
      "execution_count": 0,
      "outputs": [
        {
          "output_type": "execute_result",
          "data": {
            "text/plain": [
              "0    9.409426\n",
              "dtype: float64"
            ]
          },
          "metadata": {
            "tags": []
          },
          "execution_count": 43
        }
      ]
    },
    {
      "cell_type": "code",
      "metadata": {
        "id": "mZjR56U1YNEQ",
        "colab_type": "code",
        "outputId": "579711b8-603b-4415-d86d-bf6eef8d60e3",
        "colab": {
          "base_uri": "https://localhost:8080/",
          "height": 34
        }
      },
      "source": [
        "### SCIKIT-LEARN ###\n",
        "\n",
        "# predict for a new observation\n",
        "lm2.predict(X_new)"
      ],
      "execution_count": 0,
      "outputs": [
        {
          "output_type": "execute_result",
          "data": {
            "text/plain": [
              "array([9.40942557])"
            ]
          },
          "metadata": {
            "tags": []
          },
          "execution_count": 48
        }
      ]
    },
    {
      "cell_type": "markdown",
      "metadata": {
        "id": "NiEQfbIuYuwT",
        "colab_type": "text"
      },
      "source": [
        "## Plotting the Least Squares Line"
      ]
    },
    {
      "cell_type": "code",
      "metadata": {
        "id": "wiF0CYUKYv6O",
        "colab_type": "code",
        "outputId": "aa12c605-0240-44ef-f611-874270b06c67",
        "colab": {
          "base_uri": "https://localhost:8080/",
          "height": 583
        }
      },
      "source": [
        "sns.pairplot(data, x_vars=['TV','Radio','Newspaper'], y_vars='Sales', size=7, aspect=0.7, kind='reg')"
      ],
      "execution_count": 0,
      "outputs": [
        {
          "output_type": "stream",
          "text": [
            "/usr/local/lib/python3.6/dist-packages/seaborn/axisgrid.py:2065: UserWarning: The `size` parameter has been renamed to `height`; pleaes update your code.\n",
            "  warnings.warn(msg, UserWarning)\n"
          ],
          "name": "stderr"
        },
        {
          "output_type": "execute_result",
          "data": {
            "text/plain": [
              "<seaborn.axisgrid.PairGrid at 0x7f1f189a56d8>"
            ]
          },
          "metadata": {
            "tags": []
          },
          "execution_count": 49
        },
        {
          "output_type": "display_data",
          "data": {
            "image/png": "[encoded data removed]",
            "text/plain": [
              "<Figure size 1058.4x504 with 3 Axes>"
            ]
          },
          "metadata": {
            "tags": []
          }
        }
      ]
    },
    {
      "cell_type": "markdown",
      "metadata": {
        "id": "wSCdGl1ZZd_Y",
        "colab_type": "text"
      },
      "source": [
        "## Hypothesis Testing and p-values"
      ]
    },
    {
      "cell_type": "markdown",
      "metadata": {
        "id": "7RWJnK2cZgBi",
        "colab_type": "text"
      },
      "source": [
        "**Steps for Hypothesis Testing**\n",
        "\n",
        "*  Start with a null hypothesis and an alternative hypothesis (that is opposite the null)\n",
        "*  Then, you check whether the data supports rejecting the null hypothesis or failing to reject the null hypothesis\n",
        "  *  \"failing to reject\" the null is not the same as \"accepting\" the null hypothesis\n",
        "  *  The alternative hypothesis may indeed be true, except that you just don't have enough data to show that\n",
        "\n",
        "**Conventional hypothesis test**\n",
        "\n",
        "*  null hypothesis:\n",
        "There is no relationship between TV ads and Sales\n",
        "β1  equals zero\n",
        "*  alternative hypothesis:\n",
        "There is a relationship between TV ads and Sales\n",
        "β1  is not equal to zero\n",
        "\n",
        "**Testing hypothesis**\n",
        "\n",
        "*  Reject the null\n",
        "  *  There is a relationship\n",
        "  *  If the 95% confidence interval does not include zero\n",
        "*  Fail to reject the null\n",
        "  *  There is no relationship\n",
        "  *  If the 95% confidence interval includes zero"
      ]
    },
    {
      "cell_type": "code",
      "metadata": {
        "id": "1hjzu3cBZfGg",
        "colab_type": "code",
        "outputId": "6338e9ce-92a9-4232-87b3-be19bb8b8050",
        "colab": {
          "base_uri": "https://localhost:8080/",
          "height": 67
        }
      },
      "source": [
        "### STATSMODELS ###\n",
        "\n",
        "# print the p-values for the model coefficients\n",
        "lm1.pvalues"
      ],
      "execution_count": 0,
      "outputs": [
        {
          "output_type": "execute_result",
          "data": {
            "text/plain": [
              "Intercept    1.406300e-35\n",
              "TV           1.467390e-42\n",
              "dtype: float64"
            ]
          },
          "metadata": {
            "tags": []
          },
          "execution_count": 50
        }
      ]
    },
    {
      "cell_type": "markdown",
      "metadata": {
        "id": "94ah55k_aIxn",
        "colab_type": "text"
      },
      "source": [
        "**p-value**\n",
        "\n",
        "Represents the probability that the coefficient is actually zero\n",
        "\n",
        "**Interpreting p-values**\n",
        "\n",
        "*  If the 95% confidence interval does not include zero\n",
        "  *  p-value will be less than 0.05\n",
        "  *  Reject the null\n",
        "  *  There is a relationship\n",
        "*  If the 95% confidence interval includes zero\n",
        "  *  p-value for that coefficient will be greater than 0.05\n",
        "  *  Fail to reject the null\n",
        "  *  There is no relationship"
      ]
    },
    {
      "cell_type": "markdown",
      "metadata": {
        "id": "9c0_GUlFajwT",
        "colab_type": "text"
      },
      "source": [
        "* In this case, the p-value for TV is far less than 0.05\n",
        "* We generally ignore the p-value for the intercept\n",
        "* Believe that there is a relationship between TV ads and Sales"
      ]
    },
    {
      "cell_type": "markdown",
      "metadata": {
        "id": "Eflo2zcQauH6",
        "colab_type": "text"
      },
      "source": [
        "## How Well Does the Model Fit the data?"
      ]
    },
    {
      "cell_type": "markdown",
      "metadata": {
        "id": "m5dXxfFkav2F",
        "colab_type": "text"
      },
      "source": [
        "To evaluate the overall fit of a linear model, we use the R-squared value\n",
        "\n",
        "* R-squared is the proportion of variance explained\n",
        "  * It is the proportion of variance in the observed data that is explained by the model, or the reduction in error over the null model\n",
        "    * The null model just predicts the mean of the observed response, and thus it has an intercept and no slope\n",
        "* R-squared is between 0 and 1\n",
        "  * Higher values are better because it means that more variance is explained by the model."
      ]
    },
    {
      "cell_type": "code",
      "metadata": {
        "id": "7-TOiQUvavLw",
        "colab_type": "code",
        "outputId": "95bded70-6c68-4047-a40a-61915feb6eae",
        "colab": {
          "base_uri": "https://localhost:8080/",
          "height": 34
        }
      },
      "source": [
        "### STATSMODELS ###\n",
        "\n",
        "# print the R-squared value for the model\n",
        "lm1.rsquared"
      ],
      "execution_count": 0,
      "outputs": [
        {
          "output_type": "execute_result",
          "data": {
            "text/plain": [
              "0.611875050850071"
            ]
          },
          "metadata": {
            "tags": []
          },
          "execution_count": 51
        }
      ]
    },
    {
      "cell_type": "code",
      "metadata": {
        "id": "raGQpDlJa_1a",
        "colab_type": "code",
        "outputId": "5b63d085-cdfe-413e-cc6a-7d6d3ddd8eb0",
        "colab": {
          "base_uri": "https://localhost:8080/",
          "height": 34
        }
      },
      "source": [
        "### SCIKIT-LEARN ###\n",
        "\n",
        "# print the R-squared value for the model\n",
        "lm2.score(X, y)"
      ],
      "execution_count": 0,
      "outputs": [
        {
          "output_type": "execute_result",
          "data": {
            "text/plain": [
              "0.611875050850071"
            ]
          },
          "metadata": {
            "tags": []
          },
          "execution_count": 52
        }
      ]
    },
    {
      "cell_type": "markdown",
      "metadata": {
        "id": "Yzr3K859bDER",
        "colab_type": "text"
      },
      "source": [
        "**Is that a \"good\" R-squared value?**\n",
        "\n",
        "* It's hard to say\n",
        "* The threshold for a good R-squared value depends widely on the domain\n",
        "* Therefore, it's most useful as a tool for comparing different models"
      ]
    },
    {
      "cell_type": "markdown",
      "metadata": {
        "id": "xqUfjCbCScz1",
        "colab_type": "text"
      },
      "source": [
        "# Linear Regression -Third Solution"
      ]
    },
    {
      "cell_type": "code",
      "metadata": {
        "id": "1TMlrE-HQyk1",
        "colab_type": "code",
        "outputId": "f84cd18a-4300-4cf7-a6ae-fa20b503e373",
        "colab": {
          "base_uri": "https://localhost:8080/",
          "height": 359
        }
      },
      "source": [
        "# Load the diabetes dataset\n",
        "diabetes = datasets.load_diabetes()\n",
        "\n",
        "\n",
        "# Use only one feature\n",
        "diabetes_X = diabetes.data[:, np.newaxis, 2]\n",
        "\n",
        "# Split the data into training/testing sets\n",
        "diabetes_X_train = diabetes_X[:-20]\n",
        "diabetes_X_test = diabetes_X[-20:]\n",
        "\n",
        "# Split the targets into training/testing sets\n",
        "diabetes_y_train = diabetes.target[:-20]\n",
        "diabetes_y_test = diabetes.target[-20:]\n",
        "\n",
        "# Create linear regression object\n",
        "regr = linear_model.LinearRegression()\n",
        "\n",
        "# Train the model using the training sets\n",
        "regr.fit(diabetes_X_train, diabetes_y_train)\n",
        "\n",
        "# Make predictions using the testing set\n",
        "diabetes_y_pred = regr.predict(diabetes_X_test)\n",
        "\n",
        "# The coefficients\n",
        "print('Coefficients: \\n', regr.coef_)\n",
        "# The mean squared error\n",
        "print(\"Mean squared error: %.2f\"\n",
        "      % mean_squared_error(diabetes_y_test, diabetes_y_pred))\n",
        "# Explained variance score: 1 is perfect prediction\n",
        "print('Variance score: %.2f' % r2_score(diabetes_y_test, diabetes_y_pred))\n",
        "\n",
        "# Plot outputs\n",
        "plt.scatter(diabetes_X_test, diabetes_y_test,  color='black')\n",
        "plt.plot(diabetes_X_test, diabetes_y_pred, color='blue', linewidth=3)\n",
        "\n",
        "plt.xticks(())\n",
        "plt.yticks(())\n",
        "\n",
        "plt.show()"
      ],
      "execution_count": 0,
      "outputs": [
        {
          "output_type": "execute_result",
          "data": {
            "text/plain": [
              "LinearRegression(copy_X=True, fit_intercept=True, n_jobs=None, normalize=False)"
            ]
          },
          "metadata": {
            "tags": []
          },
          "execution_count": 28
        },
        {
          "output_type": "stream",
          "text": [
            "Coefficients: \n",
            " [938.23786125]\n",
            "Mean squared error: 2548.07\n",
            "Variance score: 0.47\n"
          ],
          "name": "stdout"
        },
        {
          "output_type": "execute_result",
          "data": {
            "text/plain": [
              "<matplotlib.collections.PathCollection at 0x7f1f201b3ef0>"
            ]
          },
          "metadata": {
            "tags": []
          },
          "execution_count": 28
        },
        {
          "output_type": "execute_result",
          "data": {
            "text/plain": [
              "[<matplotlib.lines.Line2D at 0x7f1f2019cb00>]"
            ]
          },
          "metadata": {
            "tags": []
          },
          "execution_count": 28
        },
        {
          "output_type": "execute_result",
          "data": {
            "text/plain": [
              "([], <a list of 0 Text xticklabel objects>)"
            ]
          },
          "metadata": {
            "tags": []
          },
          "execution_count": 28
        },
        {
          "output_type": "execute_result",
          "data": {
            "text/plain": [
              "([], <a list of 0 Text yticklabel objects>)"
            ]
          },
          "metadata": {
            "tags": []
          },
          "execution_count": 28
        },
        {
          "output_type": "display_data",
          "data": {
            "image/png": "[encoded data removed]",
            "text/plain": [
              "<Figure size 432x288 with 1 Axes>"
            ]
          },
          "metadata": {
            "tags": []
          }
        }
      ]
    },
    {
      "cell_type": "markdown",
      "metadata": {
        "id": "j5tjkBZSQxu-",
        "colab_type": "text"
      },
      "source": [
        ""
      ]
    }
  ]
}